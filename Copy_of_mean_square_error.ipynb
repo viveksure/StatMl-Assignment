{
  "nbformat": 4,
  "nbformat_minor": 0,
  "metadata": {
    "colab": {
      "name": "Copy of mean square error.ipynb",
      "provenance": [],
      "include_colab_link": true
    },
    "kernelspec": {
      "name": "python3",
      "display_name": "Python 3"
    },
    "language_info": {
      "name": "python"
    }
  },
  "cells": [
    {
      "cell_type": "markdown",
      "metadata": {
        "id": "view-in-github",
        "colab_type": "text"
      },
      "source": [
        "<a href=\"https://colab.research.google.com/github/viveksure/StatMl-Assignment/blob/main/Copy_of_mean_square_error.ipynb\" target=\"_parent\"><img src=\"https://colab.research.google.com/assets/colab-badge.svg\" alt=\"Open In Colab\"/></a>"
      ]
    },
    {
      "cell_type": "code",
      "metadata": {
        "id": "XPbNWtyYKwbX"
      },
      "source": [
        "import numpy as np"
      ],
      "execution_count": null,
      "outputs": []
    },
    {
      "cell_type": "code",
      "metadata": {
        "colab": {
          "base_uri": "https://localhost:8080/"
        },
        "id": "rWU39FP5KzDm",
        "outputId": "5fc67230-649b-4f05-c863-63a7df953318"
      },
      "source": [
        "from google.colab import drive\n",
        "drive.mount('/gdrive')"
      ],
      "execution_count": null,
      "outputs": [
        {
          "output_type": "stream",
          "name": "stdout",
          "text": [
            "Drive already mounted at /gdrive; to attempt to forcibly remount, call drive.mount(\"/gdrive\", force_remount=True).\n"
          ]
        }
      ]
    },
    {
      "cell_type": "code",
      "metadata": {
        "id": "ceGMB7qyLbkw"
      },
      "source": [
        "import pandas as pd"
      ],
      "execution_count": null,
      "outputs": []
    },
    {
      "cell_type": "code",
      "metadata": {
        "id": "bqfpVidJKzDn"
      },
      "source": [
        "with open('/gdrive/My Drive/foo.txt', 'w') as f:\n",
        "  f.write('Hello Google Drive!')\n",
        "!cat '/gdrive/My Drive/foo.txt'"
      ],
      "execution_count": null,
      "outputs": []
    },
    {
      "cell_type": "code",
      "metadata": {
        "id": "BZ10Xx_1Le84"
      },
      "source": [
        "data=pd.read_csv('/content/assignment aml xl.csv')"
      ],
      "execution_count": null,
      "outputs": []
    },
    {
      "cell_type": "code",
      "metadata": {
        "id": "w_0tSOmBa2VT"
      },
      "source": [
        "beta=pd.read_csv('/content/beta aml assignment.csv')"
      ],
      "execution_count": null,
      "outputs": []
    },
    {
      "cell_type": "code",
      "metadata": {
        "colab": {
          "base_uri": "https://localhost:8080/"
        },
        "id": "1p8s4oESbG5K",
        "outputId": "5e29cd04-1403-4287-ac7d-2dcb07477570"
      },
      "source": [
        "from google.colab import drive\n",
        "drive.mount('/gdrive')"
      ],
      "execution_count": null,
      "outputs": [
        {
          "output_type": "stream",
          "name": "stdout",
          "text": [
            "Drive already mounted at /gdrive; to attempt to forcibly remount, call drive.mount(\"/gdrive\", force_remount=True).\n"
          ]
        }
      ]
    },
    {
      "cell_type": "code",
      "metadata": {
        "colab": {
          "base_uri": "https://localhost:8080/"
        },
        "id": "txv-gReMbG5L",
        "outputId": "e4ec967d-d066-42eb-ec35-23e0ebb7bedc"
      },
      "source": [
        "with open('/gdrive/My Drive/foo.txt', 'w') as f:\n",
        "  f.write('Hello Google Drive!')\n",
        "!cat '/gdrive/My Drive/foo.txt'"
      ],
      "execution_count": null,
      "outputs": [
        {
          "output_type": "stream",
          "name": "stdout",
          "text": [
            "Hello Google Drive!"
          ]
        }
      ]
    },
    {
      "cell_type": "code",
      "metadata": {
        "colab": {
          "base_uri": "https://localhost:8080/",
          "height": 206
        },
        "id": "FQpEJ3TRNWWv",
        "outputId": "3a5509ea-fea6-477e-8b08-fcb477ca5610"
      },
      "source": [
        "data.head()"
      ],
      "execution_count": null,
      "outputs": [
        {
          "output_type": "execute_result",
          "data": {
            "text/html": [
              "<div>\n",
              "<style scoped>\n",
              "    .dataframe tbody tr th:only-of-type {\n",
              "        vertical-align: middle;\n",
              "    }\n",
              "\n",
              "    .dataframe tbody tr th {\n",
              "        vertical-align: top;\n",
              "    }\n",
              "\n",
              "    .dataframe thead th {\n",
              "        text-align: right;\n",
              "    }\n",
              "</style>\n",
              "<table border=\"1\" class=\"dataframe\">\n",
              "  <thead>\n",
              "    <tr style=\"text-align: right;\">\n",
              "      <th></th>\n",
              "      <th>Years(X1)</th>\n",
              "      <th>Salary(Y)</th>\n",
              "    </tr>\n",
              "  </thead>\n",
              "  <tbody>\n",
              "    <tr>\n",
              "      <th>0</th>\n",
              "      <td>3.2</td>\n",
              "      <td>54445</td>\n",
              "    </tr>\n",
              "    <tr>\n",
              "      <th>1</th>\n",
              "      <td>3.2</td>\n",
              "      <td>64445</td>\n",
              "    </tr>\n",
              "    <tr>\n",
              "      <th>2</th>\n",
              "      <td>3.7</td>\n",
              "      <td>57189</td>\n",
              "    </tr>\n",
              "    <tr>\n",
              "      <th>3</th>\n",
              "      <td>3.9</td>\n",
              "      <td>63218</td>\n",
              "    </tr>\n",
              "    <tr>\n",
              "      <th>4</th>\n",
              "      <td>4.0</td>\n",
              "      <td>55794</td>\n",
              "    </tr>\n",
              "  </tbody>\n",
              "</table>\n",
              "</div>"
            ],
            "text/plain": [
              "   Years(X1)  Salary(Y)\n",
              "0        3.2      54445\n",
              "1        3.2      64445\n",
              "2        3.7      57189\n",
              "3        3.9      63218\n",
              "4        4.0      55794"
            ]
          },
          "metadata": {},
          "execution_count": 177
        }
      ]
    },
    {
      "cell_type": "code",
      "metadata": {
        "colab": {
          "base_uri": "https://localhost:8080/",
          "height": 174
        },
        "id": "avFSNNu2bRuB",
        "outputId": "dd046c23-bf80-4692-b6e2-6baf77b24c3a"
      },
      "source": [
        "beta.head()"
      ],
      "execution_count": null,
      "outputs": [
        {
          "output_type": "execute_result",
          "data": {
            "text/html": [
              "<div>\n",
              "<style scoped>\n",
              "    .dataframe tbody tr th:only-of-type {\n",
              "        vertical-align: middle;\n",
              "    }\n",
              "\n",
              "    .dataframe tbody tr th {\n",
              "        vertical-align: top;\n",
              "    }\n",
              "\n",
              "    .dataframe thead th {\n",
              "        text-align: right;\n",
              "    }\n",
              "</style>\n",
              "<table border=\"1\" class=\"dataframe\">\n",
              "  <thead>\n",
              "    <tr style=\"text-align: right;\">\n",
              "      <th></th>\n",
              "      <th>beta 0</th>\n",
              "      <th>beta 1</th>\n",
              "    </tr>\n",
              "  </thead>\n",
              "  <tbody>\n",
              "    <tr>\n",
              "      <th>0</th>\n",
              "      <td>1235</td>\n",
              "      <td>1900</td>\n",
              "    </tr>\n",
              "    <tr>\n",
              "      <th>1</th>\n",
              "      <td>1500</td>\n",
              "      <td>1950</td>\n",
              "    </tr>\n",
              "    <tr>\n",
              "      <th>2</th>\n",
              "      <td>1850</td>\n",
              "      <td>2000</td>\n",
              "    </tr>\n",
              "    <tr>\n",
              "      <th>3</th>\n",
              "      <td>2000</td>\n",
              "      <td>2100</td>\n",
              "    </tr>\n",
              "  </tbody>\n",
              "</table>\n",
              "</div>"
            ],
            "text/plain": [
              "    beta 0  beta 1\n",
              "0     1235    1900\n",
              "1     1500    1950\n",
              "2     1850    2000\n",
              "3     2000    2100"
            ]
          },
          "metadata": {},
          "execution_count": 178
        }
      ]
    },
    {
      "cell_type": "code",
      "metadata": {
        "id": "dmSHmy1lTfmG"
      },
      "source": [
        "import numpy as np\n",
        "x1=data['Years(X1)']"
      ],
      "execution_count": null,
      "outputs": []
    },
    {
      "cell_type": "code",
      "metadata": {
        "id": "2LdJHpAhXXn9"
      },
      "source": [
        "y=data['Salary(Y)']"
      ],
      "execution_count": null,
      "outputs": []
    },
    {
      "cell_type": "code",
      "metadata": {
        "id": "UNua4QTIYmJ-"
      },
      "source": [
        "b1=beta['beta 1']"
      ],
      "execution_count": null,
      "outputs": []
    },
    {
      "cell_type": "code",
      "metadata": {
        "id": "GD-tLtkEY1yN"
      },
      "source": [
        "b0=beta[' beta 0']"
      ],
      "execution_count": null,
      "outputs": []
    },
    {
      "cell_type": "code",
      "metadata": {
        "id": "Ph2RjOnz-FVS"
      },
      "source": [
        "i=0\n",
        "j=0\n",
        "y1bar=[]\n",
        "y2bar=[]\n",
        "y3bar=[]\n",
        "y4bar=[]\n",
        "while i<len(y):\n",
        "  y1bar.append(b0[j]+x1[i]*b1[j])\n",
        "  i=i+1\n",
        "i=0\n",
        "j=1\n",
        "while i<len(y):\n",
        "  y2bar.append(b0[j]+x1[i]*b1[j])\n",
        "  i=i+1\n",
        "i=0\n",
        "j=2\n",
        "while i<len(y):\n",
        "  y3bar.append(b0[j]+x1[i]*b1[j])\n",
        "  i=i+1\n",
        "i=0\n",
        "j=3\n",
        "while i<len(y):\n",
        "  y4bar.append(b0[j]+x1[i]*b1[j])\n",
        "  i=i+1"
      ],
      "execution_count": null,
      "outputs": []
    },
    {
      "cell_type": "code",
      "metadata": {
        "colab": {
          "base_uri": "https://localhost:8080/"
        },
        "id": "KmLDsNT9CDrK",
        "outputId": "c2c6f8cf-d074-4ee7-ab77-f0105995592b"
      },
      "source": [
        "print(y1bar,sep=',')\n",
        "print('\\n')\n",
        "print(y2bar,sep=',')\n",
        "print('\\n')\n",
        "print(y3bar,sep=',')\n",
        "print('\\n')\n",
        "print(y4bar,sep=',')"
      ],
      "execution_count": null,
      "outputs": [
        {
          "output_type": "stream",
          "name": "stdout",
          "text": [
            "[7315.0, 7315.0, 8265.0, 8645.0, 8835.0, 8835.0, 9025.0, 9785.0, 10545.0, 10925.0, 11305.0, 12445.0, 12635.0]\n",
            "\n",
            "\n",
            "[7740.0, 7740.0, 8715.0, 9105.0, 9300.0, 9300.0, 9495.0, 10275.0, 11055.0, 11445.0, 11835.0, 13005.0, 13200.0]\n",
            "\n",
            "\n",
            "[8250.0, 8250.0, 9250.0, 9650.0, 9850.0, 9850.0, 10050.0, 10850.0, 11650.0, 12050.0, 12450.0, 13650.0, 13850.0]\n",
            "\n",
            "\n",
            "[8720.0, 8720.0, 9770.0, 10190.0, 10400.0, 10400.0, 10610.0, 11450.0, 12290.0, 12710.0, 13130.0, 14390.0, 14600.0]\n"
          ]
        }
      ]
    },
    {
      "cell_type": "code",
      "metadata": {
        "id": "Su6CDH_aCFWV"
      },
      "source": [
        "for i in range(0,len(x1)):\n",
        "  y1bar[i]=(y1bar[i]-y[i])**2\n",
        "  y2bar[i]=(y2bar[i]-y[i])**2\n",
        "  y3bar[i]=(y3bar[i]-y[i])**2\n",
        "  y4bar[i]=(y4bar[i]-y[i])**2"
      ],
      "execution_count": null,
      "outputs": []
    },
    {
      "cell_type": "code",
      "metadata": {
        "colab": {
          "base_uri": "https://localhost:8080/"
        },
        "id": "OBYm4qaTD74i",
        "outputId": "c59594de-8bb1-4c4e-a3e3-a269b5ac4204"
      },
      "source": [
        "print(y1bar,sep=',')\n",
        "print('\\n')\n",
        "print(y2bar,sep=',')\n",
        "print('\\n')\n",
        "print(y3bar,sep=',')\n",
        "print('\\n')\n",
        "print(y4bar,sep=',')"
      ],
      "execution_count": null,
      "outputs": [
        {
          "output_type": "stream",
          "name": "stdout",
          "text": [
            "[2221236900.0, 3263836900.0, 2393557776.0, 2978212329.0, 2205147681.0, 2315726884.0, 2309379136.0, 2634358276.0, 3293956449.0, 3036450816.0, 5152799089.0, 4749690724.0, 6610503025.0]\n",
            "\n",
            "\n",
            "[2181357025.0, 3215457025.0, 2349728676.0, 2928216769.0, 2161692036.0, 2271189649.0, 2264427396.0, 2584298896.0, 3235675689.0, 2979413056.0, 5076990009.0, 4672816164.0, 6518947600.0]\n",
            "\n",
            "\n",
            "[2133978025.0, 3157878025.0, 2298147721.0, 2869530624.0, 2110851136.0, 2219069449.0, 2211914961.0, 2526168121.0, 3168338944.0, 2913732441.0, 4989727044.0, 4585050369.0, 6414408100.0]\n",
            "\n",
            "\n",
            "[2090775625.0, 3105275625.0, 2248561561.0, 2811968784.0, 2060615236.0, 2167554249.0, 2159553841.0, 2466214921.0, 3096699904.0, 2842915761.0, 4894121764.0, 4485382729.0, 6294835600.0]\n"
          ]
        }
      ]
    },
    {
      "cell_type": "code",
      "metadata": {
        "id": "yuDH_532D-AP"
      },
      "source": [
        "y1,y2,y3,y4=0,0,0,0\n",
        "for i in range(0,len(x1)):\n",
        "  y1=y1+y1bar[i]\n",
        "  y2=y2+y2bar[i]\n",
        "  y3=y3+y3bar[i]\n",
        "  y4=y4+y4bar[i]"
      ],
      "execution_count": null,
      "outputs": []
    },
    {
      "cell_type": "code",
      "metadata": {
        "colab": {
          "base_uri": "https://localhost:8080/"
        },
        "id": "jF-mzghfEmC_",
        "outputId": "527ffc25-f386-4fc4-8abd-71c7cfc26e24"
      },
      "source": [
        "y1=y1/len(x1)\n",
        "print(y1)\n",
        "y2=y2/len(x1)\n",
        "print(y2)\n",
        "y3=y3/len(x1)\n",
        "print(y3)\n",
        "y4=y4/len(x1)\n",
        "print(y4)"
      ],
      "execution_count": null,
      "outputs": [
        {
          "output_type": "stream",
          "name": "stdout",
          "text": [
            "3320373537.3076925\n",
            "3264631537.6923075\n",
            "3199907304.6153846\n",
            "3132651969.230769\n"
          ]
        }
      ]
    },
    {
      "cell_type": "code",
      "metadata": {
        "colab": {
          "base_uri": "https://localhost:8080/"
        },
        "id": "2LsvDtV-ISSh",
        "outputId": "2bc6e0e9-317d-40df-c553-93deef8d49d1"
      },
      "source": [
        "if y1<y2:\n",
        "  x=y1\n",
        "  i=0\n",
        "else:\n",
        "  x=y2\n",
        "  i=1\n",
        "if x<y3:\n",
        "  z=x\n",
        "  i=1\n",
        "else:\n",
        "  z=y3\n",
        "  i=2\n",
        "if z<y4:\n",
        "  f=z\n",
        "  i=2\n",
        "else:\n",
        "  f=y4\n",
        "  i=3\n",
        "print(\"the best beeta values are:\",b0[i],b1[i])"
      ],
      "execution_count": null,
      "outputs": [
        {
          "output_type": "stream",
          "name": "stdout",
          "text": [
            "the best beeta values are: 2000 2100\n"
          ]
        }
      ]
    }
  ]
}